{
 "cells": [
  {
   "cell_type": "code",
   "execution_count": 1,
   "id": "d347c155-607d-47f1-9fe1-526d64feb705",
   "metadata": {},
   "outputs": [],
   "source": [
    "# Bank Panel"
   ]
  },
  {
   "cell_type": "code",
   "execution_count": 3,
   "id": "53a1ed7f-d181-4a51-a0f3-159bd49f802c",
   "metadata": {},
   "outputs": [
    {
     "name": "stdin",
     "output_type": "stream",
     "text": [
      "Enter bank name:  Alfala\n",
      "Enter bank creation date:  1112\n"
     ]
    },
    {
     "name": "stdout",
     "output_type": "stream",
     "text": [
      "Select a user:\n",
      "1. John - Account Number: 12345\n",
      "2. Alice - Account Number: 67890\n"
     ]
    },
    {
     "name": "stdin",
     "output_type": "stream",
     "text": [
      "Enter user number:  2\n"
     ]
    },
    {
     "name": "stdout",
     "output_type": "stream",
     "text": [
      "Selected User Details:\n",
      "Name: Alice\n",
      "Account Number: 67890\n",
      "Balance: 8000\n",
      "Total cash in Alfala bank: 13000\n",
      "Bank created on: 1112\n",
      "Number of users in Alfala bank: 2\n"
     ]
    }
   ],
   "source": [
    "class Bank:\n",
    "    banks = {}  # Dictionary to store bank details\n",
    "\n",
    "    def __init__(self, name):\n",
    "        self.name = name\n",
    "        self.users = []  # List to store user details\n",
    "        self.creation_date = None\n",
    "\n",
    "    @classmethod\n",
    "    def create_bank(cls, name):\n",
    "        bank = cls(name)\n",
    "        cls.banks[name] = bank\n",
    "        return bank\n",
    "\n",
    "    def add_user(self, user_details):\n",
    "        self.users.append(user_details)\n",
    "\n",
    "    def total_cash(self):\n",
    "        total = 0\n",
    "        for user in self.users:\n",
    "            total += user['balance']\n",
    "        return total\n",
    "\n",
    "    def set_creation_date(self, creation_date):\n",
    "        self.creation_date = creation_date\n",
    "\n",
    "    def get_creation_date(self):\n",
    "        return self.creation_date\n",
    "\n",
    "    def count_users(self):\n",
    "        return len(self.users)\n",
    "\n",
    "    def check_user_details(self):\n",
    "        print(\"Select a user:\")\n",
    "        for index, user in enumerate(self.users):\n",
    "            print(f\"{index + 1}. {user['name']} - Account Number: {user['account_number']}\")\n",
    "\n",
    "        user_choice = int(input(\"Enter user number: \"))\n",
    "        if 1 <= user_choice <= len(self.users):\n",
    "            selected_user = self.users[user_choice - 1]\n",
    "            print(\"Selected User Details:\")\n",
    "            print(f\"Name: {selected_user['name']}\")\n",
    "            print(f\"Account Number: {selected_user['account_number']}\")\n",
    "            print(f\"Balance: {selected_user['balance']}\")\n",
    "        else:\n",
    "            print(\"Invalid user number.\")\n",
    "\n",
    "# Example Usage\n",
    "# Creating a new bank\n",
    "bank_name = input(\"Enter bank name: \")\n",
    "my_bank = Bank.create_bank(bank_name)\n",
    "\n",
    "# Adding users to the bank\n",
    "user1 = {'name': 'John', 'account_number': '12345', 'balance': 5000}\n",
    "user2 = {'name': 'Alice', 'account_number': '67890', 'balance': 8000}\n",
    "my_bank.add_user(user1)\n",
    "my_bank.add_user(user2)\n",
    "\n",
    "# Setting creation date\n",
    "creation_date = input(\"Enter bank creation date: \")\n",
    "my_bank.set_creation_date(creation_date)\n",
    "\n",
    "# Checking user details\n",
    "my_bank.check_user_details()\n",
    "\n",
    "# Getting bank details\n",
    "print(f\"Total cash in {bank_name} bank: {my_bank.total_cash()}\")\n",
    "print(f\"Bank created on: {my_bank.get_creation_date()}\")\n",
    "print(f\"Number of users in {bank_name} bank: {my_bank.count_users()}\")\n"
   ]
  },
  {
   "cell_type": "code",
   "execution_count": 2,
   "id": "72247ee5-f106-421c-9119-2792010b093f",
   "metadata": {},
   "outputs": [],
   "source": [
    "# User Panel"
   ]
  },
  {
   "cell_type": "code",
   "execution_count": 10,
   "id": "82c0be6e-bd8e-402e-a213-950c6c2f0fe3",
   "metadata": {},
   "outputs": [
    {
     "name": "stdout",
     "output_type": "stream",
     "text": [
      "Welcome to the bank registration system!\n"
     ]
    },
    {
     "name": "stdin",
     "output_type": "stream",
     "text": [
      "Select Bank: Meezan or Al-Habib:  Meezan\n"
     ]
    },
    {
     "name": "stdout",
     "output_type": "stream",
     "text": [
      "1.Login\n",
      "2.Create a new Account\n"
     ]
    },
    {
     "name": "stdin",
     "output_type": "stream",
     "text": [
      "Make decision:  1\n"
     ]
    },
    {
     "name": "stdout",
     "output_type": "stream",
     "text": [
      "Logging in\n"
     ]
    },
    {
     "name": "stdin",
     "output_type": "stream",
     "text": [
      "Enter Name:  Mohsin Irfan\n",
      "Enter User-ID:  22\n",
      "Enter Pin:  2728\n"
     ]
    },
    {
     "name": "stdout",
     "output_type": "stream",
     "text": [
      "Mohsin Irfan logged in\n",
      "1.Check Balcane\n",
      "2.Deposit\n",
      "3.Withdraw\n",
      "4.Tranfer amount\n",
      "5.Edit profile\n",
      "6.Transaction History\n",
      "7.Account Details\n",
      "8.Logout\n"
     ]
    },
    {
     "name": "stdin",
     "output_type": "stream",
     "text": [
      " 3\n"
     ]
    },
    {
     "name": "stdout",
     "output_type": "stream",
     "text": [
      "Balance = 1000\n"
     ]
    },
    {
     "name": "stdin",
     "output_type": "stream",
     "text": [
      "Enter amount:  900\n"
     ]
    },
    {
     "name": "stdout",
     "output_type": "stream",
     "text": [
      "Amount withdraw successfully\n",
      "Balacne left = 100\n",
      "\n",
      "1.Return\n",
      "2.Logout\n"
     ]
    },
    {
     "name": "stdin",
     "output_type": "stream",
     "text": [
      " 1\n"
     ]
    },
    {
     "name": "stdout",
     "output_type": "stream",
     "text": [
      "1.Check Balcane\n",
      "2.Deposit\n",
      "3.Withdraw\n",
      "4.Tranfer amount\n",
      "5.Edit profile\n",
      "6.Transaction History\n",
      "7.Account Details\n",
      "8.Logout\n"
     ]
    },
    {
     "name": "stdin",
     "output_type": "stream",
     "text": [
      " 1\n"
     ]
    },
    {
     "name": "stdout",
     "output_type": "stream",
     "text": [
      "Balance = 100\n",
      "\n",
      "1.Return\n",
      "2.Logout\n"
     ]
    },
    {
     "name": "stdin",
     "output_type": "stream",
     "text": [
      " 1\n"
     ]
    },
    {
     "name": "stdout",
     "output_type": "stream",
     "text": [
      "1.Check Balcane\n",
      "2.Deposit\n",
      "3.Withdraw\n",
      "4.Tranfer amount\n",
      "5.Edit profile\n",
      "6.Transaction History\n",
      "7.Account Details\n",
      "8.Logout\n"
     ]
    },
    {
     "name": "stdin",
     "output_type": "stream",
     "text": [
      " 3\n"
     ]
    },
    {
     "name": "stdout",
     "output_type": "stream",
     "text": [
      "Balance = 100\n"
     ]
    },
    {
     "name": "stdin",
     "output_type": "stream",
     "text": [
      "Enter amount:  100\n"
     ]
    },
    {
     "name": "stdout",
     "output_type": "stream",
     "text": [
      "Not enough balance\n",
      "\n",
      "1.Return\n",
      "2.Logout\n"
     ]
    },
    {
     "name": "stdin",
     "output_type": "stream",
     "text": [
      " 1\n"
     ]
    },
    {
     "name": "stdout",
     "output_type": "stream",
     "text": [
      "1.Check Balcane\n",
      "2.Deposit\n",
      "3.Withdraw\n",
      "4.Tranfer amount\n",
      "5.Edit profile\n",
      "6.Transaction History\n",
      "7.Account Details\n",
      "8.Logout\n"
     ]
    },
    {
     "name": "stdin",
     "output_type": "stream",
     "text": [
      " 1\n"
     ]
    },
    {
     "name": "stdout",
     "output_type": "stream",
     "text": [
      "Balance = 100\n",
      "\n",
      "1.Return\n",
      "2.Logout\n"
     ]
    },
    {
     "name": "stdin",
     "output_type": "stream",
     "text": [
      " 1\n"
     ]
    },
    {
     "name": "stdout",
     "output_type": "stream",
     "text": [
      "1.Check Balcane\n",
      "2.Deposit\n",
      "3.Withdraw\n",
      "4.Tranfer amount\n",
      "5.Edit profile\n",
      "6.Transaction History\n",
      "7.Account Details\n",
      "8.Logout\n"
     ]
    },
    {
     "name": "stdin",
     "output_type": "stream",
     "text": [
      " 3\n"
     ]
    },
    {
     "name": "stdout",
     "output_type": "stream",
     "text": [
      "Balance = 100\n"
     ]
    },
    {
     "name": "stdin",
     "output_type": "stream",
     "text": [
      "Enter amount:  99\n"
     ]
    },
    {
     "name": "stdout",
     "output_type": "stream",
     "text": [
      "Amount withdraw successfully\n",
      "Balacne left = 1\n",
      "\n",
      "1.Return\n",
      "2.Logout\n"
     ]
    },
    {
     "name": "stdin",
     "output_type": "stream",
     "text": [
      " 1\n"
     ]
    },
    {
     "name": "stdout",
     "output_type": "stream",
     "text": [
      "1.Check Balcane\n",
      "2.Deposit\n",
      "3.Withdraw\n",
      "4.Tranfer amount\n",
      "5.Edit profile\n",
      "6.Transaction History\n",
      "7.Account Details\n",
      "8.Logout\n"
     ]
    },
    {
     "name": "stdin",
     "output_type": "stream",
     "text": [
      " 3\n"
     ]
    },
    {
     "name": "stdout",
     "output_type": "stream",
     "text": [
      "Balance = 1\n"
     ]
    },
    {
     "name": "stdin",
     "output_type": "stream",
     "text": [
      "Enter amount:  1\n"
     ]
    },
    {
     "name": "stdout",
     "output_type": "stream",
     "text": [
      "Not enough balance\n",
      "\n",
      "1.Return\n",
      "2.Logout\n"
     ]
    },
    {
     "name": "stdin",
     "output_type": "stream",
     "text": [
      " 1\n"
     ]
    },
    {
     "name": "stdout",
     "output_type": "stream",
     "text": [
      "1.Check Balcane\n",
      "2.Deposit\n",
      "3.Withdraw\n",
      "4.Tranfer amount\n",
      "5.Edit profile\n",
      "6.Transaction History\n",
      "7.Account Details\n",
      "8.Logout\n"
     ]
    },
    {
     "name": "stdin",
     "output_type": "stream",
     "text": [
      " 2\n"
     ]
    },
    {
     "name": "stdout",
     "output_type": "stream",
     "text": [
      "Balance = 1\n"
     ]
    },
    {
     "name": "stdin",
     "output_type": "stream",
     "text": [
      "Enter amount:  4000000\n"
     ]
    },
    {
     "name": "stdout",
     "output_type": "stream",
     "text": [
      "Amount added successfully\n",
      "\n",
      "1.Return\n",
      "2.Logout\n"
     ]
    },
    {
     "name": "stdin",
     "output_type": "stream",
     "text": [
      " 1\n"
     ]
    },
    {
     "name": "stdout",
     "output_type": "stream",
     "text": [
      "1.Check Balcane\n",
      "2.Deposit\n",
      "3.Withdraw\n",
      "4.Tranfer amount\n",
      "5.Edit profile\n",
      "6.Transaction History\n",
      "7.Account Details\n",
      "8.Logout\n"
     ]
    },
    {
     "name": "stdin",
     "output_type": "stream",
     "text": [
      " 1\n"
     ]
    },
    {
     "name": "stdout",
     "output_type": "stream",
     "text": [
      "Balance = 4000001\n",
      "\n",
      "1.Return\n",
      "2.Logout\n"
     ]
    },
    {
     "name": "stdin",
     "output_type": "stream",
     "text": [
      " 1\n"
     ]
    },
    {
     "name": "stdout",
     "output_type": "stream",
     "text": [
      "1.Check Balcane\n",
      "2.Deposit\n",
      "3.Withdraw\n",
      "4.Tranfer amount\n",
      "5.Edit profile\n",
      "6.Transaction History\n",
      "7.Account Details\n",
      "8.Logout\n"
     ]
    },
    {
     "name": "stdin",
     "output_type": "stream",
     "text": [
      " 2\n"
     ]
    },
    {
     "name": "stdout",
     "output_type": "stream",
     "text": [
      "Balance = 4000001\n"
     ]
    },
    {
     "name": "stdin",
     "output_type": "stream",
     "text": [
      "Enter amount:  999999\n"
     ]
    },
    {
     "name": "stdout",
     "output_type": "stream",
     "text": [
      "Amount added successfully\n",
      "\n",
      "1.Return\n",
      "2.Logout\n"
     ]
    },
    {
     "name": "stdin",
     "output_type": "stream",
     "text": [
      " 1\n"
     ]
    },
    {
     "name": "stdout",
     "output_type": "stream",
     "text": [
      "1.Check Balcane\n",
      "2.Deposit\n",
      "3.Withdraw\n",
      "4.Tranfer amount\n",
      "5.Edit profile\n",
      "6.Transaction History\n",
      "7.Account Details\n",
      "8.Logout\n"
     ]
    },
    {
     "name": "stdin",
     "output_type": "stream",
     "text": [
      " 1\n"
     ]
    },
    {
     "name": "stdout",
     "output_type": "stream",
     "text": [
      "Balance = 5000000\n",
      "\n",
      "1.Return\n",
      "2.Logout\n"
     ]
    },
    {
     "name": "stdin",
     "output_type": "stream",
     "text": [
      " 1\n"
     ]
    },
    {
     "name": "stdout",
     "output_type": "stream",
     "text": [
      "1.Check Balcane\n",
      "2.Deposit\n",
      "3.Withdraw\n",
      "4.Tranfer amount\n",
      "5.Edit profile\n",
      "6.Transaction History\n",
      "7.Account Details\n",
      "8.Logout\n"
     ]
    },
    {
     "name": "stdin",
     "output_type": "stream",
     "text": [
      " 6\n"
     ]
    },
    {
     "name": "stdout",
     "output_type": "stream",
     "text": [
      "Transaction History: \n",
      "2023-11-03 18:57:21 - Deposited $999999\n",
      "\n",
      "\n",
      "\n",
      "2023-11-03 18:56:58 - Deposited $4000000\n",
      "\n",
      "\n",
      "\n",
      "2023-50000005000000-03 50000008:56:29 - Withdrawn $99\n",
      "\n",
      "\n",
      "\n",
      "2023-50000005000000-03 50000008:56:05000000 - Withdrawn $900\n",
      "\n",
      "\n",
      "\n",
      "\n",
      "1.Return\n",
      "2.Logout\n"
     ]
    },
    {
     "name": "stdin",
     "output_type": "stream",
     "text": [
      " 2\n"
     ]
    }
   ],
   "source": [
    "class User:\n",
    "    def __init__(self):\n",
    "        self.client_details_list = []\n",
    "        self.loggedin = False\n",
    "        self.cash = 1000\n",
    "        self.TranferCash = False\n",
    "        self.bank_name = None\n",
    "        self.creation_date = datetime.datetime.now().strftime('%Y-%m-%d %H:%M:%S')\n",
    "        self.last_used_date = None\n",
    "\n",
    "\n",
    "# Registration\n",
    "    def register(self, name, ph, pin, user_id, bank_name):\n",
    "        cash = self.cash\n",
    "        conditions = True\n",
    "        if len(str(ph)) >= 20:\n",
    "            print(\"Invalid Phone number!\")\n",
    "            conditions = False\n",
    "\n",
    "        if len(pin) < 4 or len(pin) > 4:\n",
    "            print(\"Enter 4-digit pin \")\n",
    "            conditions = False\n",
    "\n",
    "        if conditions == True:\n",
    "            print(\"Account created successfully\")\n",
    "            self.client_details_list = [name, ph, pin, user_id, cash, bank_name]\n",
    "            with open(f\"{name}.csv\", \"w\") as f:\n",
    "                for details in self.client_details_list:\n",
    "                    f.write(str(details) + \"\\n\")\n",
    "\n",
    "# Login\n",
    "    def login(self, name, pin, user_id):\n",
    "        with open(f\"{name}.csv\", \"r\") as f:\n",
    "            details = f.read()\n",
    "            self.client_details_list = details.split(\"\\n\")\n",
    "            if len(self.client_details_list) > 2:\n",
    "                self.loggedin = True\n",
    "                self.last_used_date = datetime.datetime.now().strftime('%Y-%m-%d %H:%M:%S')\n",
    "                print(f\"{name} logged in\")\n",
    "                self.cash = int(self.client_details_list[4])\n",
    "                self.name = name\n",
    "                self.user_id = user_id\n",
    "                self.pin = pin\n",
    "            else:\n",
    "                print(\"Wrong details\")\n",
    "                \n",
    "# Deposit\n",
    "    def add_cash(self, amount):\n",
    "        if amount > 0:\n",
    "            self.cash += amount\n",
    "            with open(f\"{name}.csv\",\"r\") as f:\n",
    "                details = f.read()\n",
    "                self.client_details_list = details.split(\"\\n\")\n",
    "            \n",
    "            with open(f\"{name}.csv\",\"w\") as f:\n",
    "                f.write(details.replace(str(self.client_details_list[4]),str(self.cash)))\n",
    "\n",
    "            with open(f\"{name}.csv\", \"a\") as f:\n",
    "                current_datetime = datetime.datetime.now()\n",
    "                transaction_info = (f\"\\n{current_datetime.strftime('%Y-%m-%d %H:%M:%S')} - Deposited ${amount}\")\n",
    "                f.write(transaction_info + \"\\n\")\n",
    "\n",
    "            print(\"Amount added successfully\")\n",
    "\n",
    "        else:\n",
    "            print(\"Enter correct value of amount\")\n",
    "\n",
    "# Withdraw\n",
    "    def withdraw(self, amount):\n",
    "        if amount < self.cash:\n",
    "            self.cash -= amount\n",
    "            with open(f\"{name}.csv\",\"r\") as f:\n",
    "                details = f.read()\n",
    "                self.client_details_list = details.split(\"\\n\")\n",
    "            \n",
    "            with open(f\"{name}.csv\",\"w\") as f:\n",
    "                f.write(details.replace(str(self.client_details_list[4]),str(self.cash)))\n",
    "\n",
    "            with open(f\"{name}.csv\", \"a\") as f:\n",
    "                current_datetime = datetime.datetime.now()\n",
    "                transaction_info = (f\"\\n{current_datetime.strftime('%Y-%m-%d %H:%M:%S')} - Withdrawn ${amount}\")                  \n",
    "                f.write(transaction_info + \"\\n\")\n",
    "      \n",
    "            print(\"Amount withdraw successfully\")\n",
    "            print(\"Balacne left =\", self.cash)\n",
    "        \n",
    "        else:\n",
    "            print(\"Not enough balance\")\n",
    "\n",
    "        \n",
    "# Transfer\n",
    "    def Tranfer_cash(self, amount, name, ph):\n",
    "        with open(f\"{self.name}.csv\", \"r\") as f:\n",
    "            details = f.read()\n",
    "            self.client_details_list = details.split(\"\\n\")\n",
    "        if amount > self.cash:\n",
    "            print(\"Not enough balance\")\n",
    "            return\n",
    "\n",
    "        # Transfer the money\n",
    "        with open(f\"{name}.csv\", \"r\") as f:\n",
    "            details = f.read()\n",
    "            self.client_details_list = details.split(\"\\n\")  \n",
    "            total_cash = int(self.client_details_list[4]) + amount\n",
    "\n",
    "        with open(f\"{name}.csv\", \"w\") as f:\n",
    "            f.write(details.replace(str(self.client_details_list[4]), str(total_cash)))\n",
    "\n",
    "        with open(f\"{self.name}.csv\", \"r\") as f:\n",
    "            details = f.read()\n",
    "            self.client_details_list = details.split(\"\\n\")\n",
    "            left_cash = int(self.client_details_list[4]) - amount\n",
    "\n",
    "        with open(f\"{self.name}.csv\", \"w\") as f:\n",
    "            f.write(details.replace(str(self.client_details_list[4]), str(left_cash)))\n",
    "\n",
    "        # Update the transaction history of the sender and receiver\n",
    "        with open(f\"{self.name}.csv\", \"a\") as f:\n",
    "            current_date = datetime.datetime.now()\n",
    "            current_time = current_date.strftime(\"%H:%M:%S\")\n",
    "            current_date = current_date.strftime(\"%Y-%m-%d\")\n",
    "            f.write(f\"\\n{current_date} - {current_time} - Transferred ${amount} to {name} - {ph}\")\n",
    "\n",
    "        with open(f\"{name}.csv\", \"a\") as f:\n",
    "            current_date = datetime.datetime.now()\n",
    "            current_time = current_date.strftime(\"%H:%M:%S\")\n",
    "            current_date = current_date.strftime(\"%Y-%m-%d\")\n",
    "            f.write(f\"\\n{current_date} - {current_time} - Received ${amount} from {self.name}\")\n",
    " \n",
    "        print(\"Amount Transfered Successfully to\", name)\n",
    "        print(\"Balacne left =\", left_cash)\n",
    "\n",
    "\n",
    "# Transaction History\n",
    "    def transaction_history(self):\n",
    "        with open(f\"{self.name}.csv\", \"r\") as f:\n",
    "            details = f.readlines()[6:][::-1]\n",
    "            print(\"Transaction History: \")\n",
    "            for detail in details:\n",
    "                print(detail)\n",
    "\n",
    "# Account Details\n",
    "    def account_details(self):\n",
    "        print(\"Account Details:\")\n",
    "        print(f\"Name: {self.name}\")\n",
    "        print(f\"PIN: {self.pin}\")\n",
    "        print(f\"Balance: {self.cash}\")\n",
    "        print(f\"Account Creation Date: {self.creation_date}\")\n",
    "        if self.last_used_date:\n",
    "            print(f\"Last Used Date: {self.last_used_date}\")\n",
    "\n",
    "        \n",
    "# Piin Change\n",
    "    def pin_change(self, pin):\n",
    "        if len(pin) < 4 or len(pin) > 4:\n",
    "            print(\"Enter 4-digit pin\")\n",
    "        else:\n",
    "            with open(f\"{self.name}.csv\",\"r\") as f:\n",
    "                details = f.read()\n",
    "                self.client_details_list = details.split(\"\\n\")\n",
    "\n",
    "            with open(f\"{self.name}.csv\",\"w\") as f:\n",
    "                f.write(details.replace(str(self.client_details_list[2]),str(pin)))\n",
    "            print(\"New Pin set up successfully\")\n",
    "        \n",
    "# Phone Change\n",
    "    def ph_change(self , ph):\n",
    "        if len(str(ph)) > 10 or len(str(ph)) < 10:\n",
    "            print(\"Invalid Phone number!\")\n",
    "        else:\n",
    "            with open(f\"{self.name}.csv\",\"r\") as f:\n",
    "                details = f.read()\n",
    "                self.client_details_list = details.split(\"\\n\")\n",
    "\n",
    "            with open(f\"{self.name}.csv\",\"w\") as f:\n",
    "                f.write(details.replace(str(self.client_details_list[1]),str(ph)))\n",
    "            print(\"New Phone number set up successfully\")\n",
    "            \n",
    "# Banks\n",
    "class MeezanBank(User):\n",
    "    def __init__(self, name):\n",
    "        super().__init__()  \n",
    "\n",
    "class AlHabibBank(User):\n",
    "    def __init__(self, name):\n",
    "        super().__init__()  \n",
    "\n",
    "# Check if the user entered a valid bank name\n",
    "my_bank = User()\n",
    "\n",
    "# Check if the user entered a valid bank name\n",
    "print(\"Welcome to the bank registration system!\")\n",
    "while True:\n",
    "    bank_name = input(\"Select Bank: Meezan or Al-Habib: \")\n",
    "    if bank_name in [\"Meezan\", \"Al-Habib\"]:\n",
    "        break\n",
    "    else:\n",
    "        print(\"Invalid bank name. Please select either Meezan or Al-Habib.\")\n",
    "\n",
    "\n",
    "# Create a new bank object based on the user's selection\n",
    "if bank_name == \"Meezan\":\n",
    "    bank = MeezanBank(bank_name)\n",
    "elif bank_name == \"Al-Habib\":\n",
    "    bank = AlHabibBank(bank_name)\n",
    "\n",
    "print(\"1.Login\")\n",
    "print(\"2.Create a new Account\")\n",
    "user = int(input(\"Make decision: \"))\n",
    "\n",
    "if user == 1:\n",
    "    print(\"Logging in\")\n",
    "    name = input(\"Enter Name: \")\n",
    "    user_id = input(\"Enter User-ID: \")\n",
    "    pin = input(\"Enter Pin: \")\n",
    "    my_bank.login(name, user_id, pin)\n",
    "\n",
    "    while True:\n",
    "        if my_bank.loggedin:\n",
    "            print(\"1.Check Balcane\")\n",
    "            print(\"2.Deposit\")\n",
    "            print(\"3.Withdraw\")\n",
    "            print(\"4.Tranfer amount\")\n",
    "            print(\"5.Edit profile\")\n",
    "            print(\"6.Transaction History\")\n",
    "            print(\"7.Account Details\")\n",
    "            print(\"8.Logout\")\n",
    "            login_user = int(input())\n",
    "            \n",
    "            if login_user == 1:\n",
    "                print(\"Balance =\", my_bank.cash)\n",
    "                print(\"\\n1.Return\")\n",
    "                print(\"2.Logout\")\n",
    "                choose = int(input())\n",
    "                if choose == 1:\n",
    "                    continue\n",
    "                elif choose == 2:\n",
    "                    break\n",
    "                \n",
    "            elif login_user == 2:\n",
    "                print(\"Balance =\", my_bank.cash)\n",
    "                amount = int(input(\"Enter amount: \"))\n",
    "                my_bank.add_cash(amount)\n",
    "                print(\"\\n1.Return\")\n",
    "                print(\"2.Logout\")\n",
    "                choose = int(input())\n",
    "                if choose == 1:\n",
    "                    continue\n",
    "                elif choose == 2:\n",
    "                    break\n",
    "\n",
    "            elif login_user == 3:\n",
    "                print(\"Balance =\", my_bank.cash)\n",
    "                amount = int(input(\"Enter amount: \"))\n",
    "                my_bank.withdraw(amount)\n",
    "                print(\"\\n1.Return\")\n",
    "                print(\"2.Logout\")\n",
    "                choose = int(input())\n",
    "                if choose == 1:\n",
    "                    continue\n",
    "                elif choose == 2:\n",
    "                    break\n",
    "\n",
    "            elif login_user == 4:\n",
    "                print(\"Balance =\", my_bank.cash)\n",
    "                amount = int(input(\"Enter amount: \"))\n",
    "                if amount < 0:\n",
    "                    print(\"Enter a positive amount\")\n",
    "                    continue\n",
    "                elif amount > my_bank.cash:\n",
    "                    print(\"Not enough balance\")\n",
    "                    continue\n",
    "                name = input(\"Enter person name: \")\n",
    "                ph = input(\"Enter person phone number: \")\n",
    "\n",
    "                # Transfer the money\n",
    "                my_bank.Tranfer_cash(amount, name, ph)\n",
    "                print(\"\\n1. Return\")\n",
    "                print(\"2. Logout\")\n",
    "                choose = int(input())\n",
    "                if choose == 1:\n",
    "                    continue\n",
    "                elif choose == 2:\n",
    "                    break\n",
    "\n",
    "            \n",
    "            elif login_user == 5:\n",
    "                print(\"1.Pin change\")\n",
    "                print(\"2.Phone Number change\")\n",
    "                edit_profile = int(input())\n",
    "                if edit_profile == 1:\n",
    "                    new_pin = input(\"Enter new Pin: \")\n",
    "                    my_bank.pin_change(new_pin)\n",
    "                    print(\"\\n1.Return\")\n",
    "                    print(\"2.Logout\")\n",
    "                    choose = int(input())\n",
    "                    if choose == 1:\n",
    "                        continue\n",
    "                    elif choose == 2:\n",
    "                        break\n",
    "                    elif edit_profile == 2:\n",
    "                        new_ph = int(input(\"Enter new Phone Number: \"))\n",
    "                        my_bank.ph_change(new_ph)\n",
    "                        print(\"\\n1.Return\")\n",
    "                        print(\"2.Logout\")\n",
    "                        choose = int(input())\n",
    "                        if choose == 1:\n",
    "                            continue\n",
    "                        elif choose == 2:\n",
    "                            break\n",
    "\n",
    "            elif login_user == 6:\n",
    "                my_bank.transaction_history()\n",
    "                print(\"\\n1.Return\")\n",
    "                print(\"2.Logout\")\n",
    "                choose = int(input())\n",
    "                if choose == 1:\n",
    "                    continue\n",
    "                elif choose == 2:\n",
    "                    break\n",
    "\n",
    "            elif login_user == 7:\n",
    "                my_bank.account_details()\n",
    "                print(\"\\n1.Return\")\n",
    "                print(\"2.Logout\")\n",
    "                choose = int(input())\n",
    "                if choose == 1:\n",
    "                    continue\n",
    "                elif choose == 2:\n",
    "                    break\n",
    "                    \n",
    "            elif login_user == 8:\n",
    "                break\n",
    "                \n",
    "                                \n",
    "                \n",
    "if user == 2:\n",
    "    print(\"Creating a new Account\")\n",
    "    name = input(\"Enter Name: \")\n",
    "    ph = int(input(\"Enter Phone Number: \"))\n",
    "    pin = input(\"Enter Pin: \")\n",
    "    user_id = input(\"Enter User-ID: \")\n",
    "    my_bank.register(name, ph, pin, user_id, bank_name)\n",
    "\n"
   ]
  },
  {
   "cell_type": "code",
   "execution_count": null,
   "id": "87d1a2a3-32e5-47bf-bc83-e402cffc4b0d",
   "metadata": {},
   "outputs": [],
   "source": []
  }
 ],
 "metadata": {
  "kernelspec": {
   "display_name": "Python 3 (ipykernel)",
   "language": "python",
   "name": "python3"
  },
  "language_info": {
   "codemirror_mode": {
    "name": "ipython",
    "version": 3
   },
   "file_extension": ".py",
   "mimetype": "text/x-python",
   "name": "python",
   "nbconvert_exporter": "python",
   "pygments_lexer": "ipython3",
   "version": "3.11.5"
  }
 },
 "nbformat": 4,
 "nbformat_minor": 5
}
